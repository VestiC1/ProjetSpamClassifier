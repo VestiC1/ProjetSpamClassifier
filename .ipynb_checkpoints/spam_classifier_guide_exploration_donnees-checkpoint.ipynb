{
  "cells": [
    {
      "cell_type": "markdown",
      "metadata": {
        "id": "hSsl-qX_qBFz"
      },
      "source": [
        "# Chargement et inspection initiale des données"
      ]
    },
    {
      "cell_type": "markdown",
      "metadata": {
        "id": "S3XZRKPTVfKk"
      },
      "source": [
        "- Importer les données, pensez à utiliser le bon séparateur\n",
        "\n",
        "- Afficher les premières lignes et comprendre la structure des données (colonnes...)\n",
        "\n",
        "- Afficher les dernières lignes pour vérifier s'il y a des erreurs ou des particularités à la fin du fichier\n",
        "\n",
        "- Obtenir plus d'informations : nombre total de messages, types de données de chaque colonne, nombre de valeurs non nulles\n",
        "\n",
        "- Vérifier les valeurs manquantes\n",
        "\n",
        "- Des doublons ?\n",
        "\n",
        "- Renommer les colonnes"
      ]
    },
    {
      "cell_type": "markdown",
      "metadata": {
        "id": "-T5iBD5mqQvv"
      },
      "source": [
        "# Analyse de l'étiquette spam/ham"
      ]
    },
    {
      "cell_type": "markdown",
      "metadata": {
        "id": "fTMPNH7aqUmp"
      },
      "source": [
        "* Compter le nombre d'occurrences de chaque classe, spam et ham\n",
        "\n",
        "* Calculer la proportion de chaque classe\n",
        "\n",
        "Vous pouvez utiliser un graphique pour mieux visualiser la distribution.\n",
        "\n",
        "Déséquilibre de classes ? Le déséquilibre de classes peut influencer les performances du modèle."
      ]
    },
    {
      "cell_type": "markdown",
      "metadata": {
        "id": "Tt-vMPNVrzPN"
      },
      "source": [
        "# Analyse du texte des SMS"
      ]
    },
    {
      "cell_type": "markdown",
      "metadata": {
        "id": "yefSIg7Br0OL"
      },
      "source": [
        "* Analyser la longueur des messages : distribution des longueurs pour les messages spam et ham, longueur moyenne, graphique\n",
        "\n",
        "* Analyser le nombre de mots dans chaque message\n",
        "\n",
        "* Présence de caractères spéciaux ou de chiffres dans les messages"
      ]
    },
    {
      "cell_type": "markdown",
      "metadata": {
        "id": "LXjv6b1iqifG"
      },
      "source": [
        "# Corrigé"
      ]
    },
    {
      "cell_type": "markdown",
      "metadata": {
        "id": "eGxxyi4jqifG"
      },
      "source": [
        "## Chargement et inspection initiale des données"
      ]
    },
    {
      "cell_type": "code",
      "execution_count": null,
      "metadata": {
        "id": "ZtizTQEpqifH"
      },
      "outputs": [],
      "source": [
        "import pandas as pd"
      ]
    },
    {
      "cell_type": "code",
      "execution_count": null,
      "metadata": {
        "id": "q_2zlQGpqifI"
      },
      "outputs": [],
      "source": [
        "data = pd.read_csv('https://raw.githubusercontent.com/remijul/dataset/refs/heads/master/SMSSpamCollection', sep='\\t', header=None)"
      ]
    },
    {
      "cell_type": "code",
      "execution_count": null,
      "metadata": {
        "id": "PrfOnyjPqifK"
      },
      "outputs": [],
      "source": [
        "import chardet\n",
        "with open('SMSSpamCollection', 'rb') as file:\n",
        "    raw_data = file.read(10000)\n",
        "    result = chardet.detect(raw_data)\n",
        "    encoding = result['encoding']\n",
        "print(encoding)"
      ]
    },
    {
      "cell_type": "code",
      "execution_count": null,
      "metadata": {
        "id": "jx7kFGTDqifL"
      },
      "outputs": [],
      "source": [
        "data.head()"
      ]
    },
    {
      "cell_type": "code",
      "execution_count": null,
      "metadata": {
        "id": "O3A7EWbZqifM"
      },
      "outputs": [],
      "source": [
        "data.tail()"
      ]
    },
    {
      "cell_type": "code",
      "execution_count": null,
      "metadata": {
        "id": "h84TTYqMqifM"
      },
      "outputs": [],
      "source": [
        "data = pd.read_csv('https://raw.githubusercontent.com/remijul/dataset/refs/heads/master/SMSSpamCollection', sep='\\t', names=['label', 'sms'])"
      ]
    },
    {
      "cell_type": "code",
      "execution_count": null,
      "metadata": {
        "id": "odw1-99iqifN"
      },
      "outputs": [],
      "source": [
        "data.info()"
      ]
    },
    {
      "cell_type": "code",
      "execution_count": null,
      "metadata": {
        "id": "PQL1ZXGzqifN"
      },
      "outputs": [],
      "source": [
        "# Les entrées contenant \"ham\" ou \"spam\" dans la deuxième colonne\n",
        "data[data['sms'].str.contains('ham|spam')]"
      ]
    },
    {
      "cell_type": "code",
      "execution_count": null,
      "metadata": {
        "id": "tTz1yDe9qifO"
      },
      "outputs": [],
      "source": [
        "data[data['sms'].str.contains(r'\\b(ham|spam)\\t')]"
      ]
    },
    {
      "cell_type": "code",
      "execution_count": null,
      "metadata": {
        "id": "CV7o7XQRqifO"
      },
      "outputs": [],
      "source": [
        "data[data['sms'].str.contains(r'\\b(?:ham|spam)\\t')]"
      ]
    },
    {
      "cell_type": "code",
      "execution_count": null,
      "metadata": {
        "id": "v1_6X2WjqifP"
      },
      "outputs": [],
      "source": [
        "import re\n",
        "\n",
        "# Texte d'exemple\n",
        "text = \"ham\\t and spam\\t are types of processed meat.\"\n",
        "\n",
        "# Expression régulière avec des groupes de capture et backreferences\n",
        "pattern = r'\\b(ham|spam)\\t'\n",
        "# pattern = r'\\b(?:ham|spam)\\t'\n",
        "\n",
        "# Trouver toutes les correspondances\n",
        "matches = re.findall(pattern, text)\n",
        "\n",
        "# Afficher les correspondances\n",
        "print(matches)"
      ]
    },
    {
      "cell_type": "code",
      "execution_count": null,
      "metadata": {
        "id": "FvmUSV8qqifQ"
      },
      "outputs": [],
      "source": [
        "extracted = data['sms'].str.extract(r'\\b(ham|spam)\\t')\n",
        "print(extracted.iloc[5081])"
      ]
    },
    {
      "cell_type": "code",
      "execution_count": null,
      "metadata": {
        "id": "88DVhLu5qifQ"
      },
      "outputs": [],
      "source": [
        "data[data.sms.str.contains(r'\\b(?:ham|spam)\\t')].iloc[0]['sms']"
      ]
    },
    {
      "cell_type": "raw",
      "metadata": {
        "id": "pRGALcMmqifQ"
      },
      "source": [
        "https://raw.githubusercontent.com/remijul/dataset/refs/heads/master/SMSSpamCollection\n",
        "\n",
        "ham\t\"Keep ur problems in ur heart, b'coz nobody will fight for u. Only u &amp; u have to fight for ur self &amp; win the battle. -VIVEKANAND- G 9t.. SD..\n",
        "ham\tYeah, give me a call if you've got a minute\n",
        "ham\t\"HI BABE UAWAKE?FEELLIKW SHIT.JUSTFOUND OUT VIA ALETTER THATMUM GOTMARRIED 4thNOV.BEHIND OURBACKS  FUCKINNICE!SELFISH,DEVIOUSBITCH.ANYWAY,IL CALL U\"\n",
        "ham\tAmazing"
      ]
    },
    {
      "cell_type": "code",
      "execution_count": null,
      "metadata": {
        "id": "Hy1mLRD_qifR"
      },
      "outputs": [],
      "source": [
        "data = pd.read_csv('https://raw.githubusercontent.com/remijul/dataset/refs/heads/master/SMSSpamCollection', sep='\\t', names=['label', 'sms'], quoting=csv.QUOTE_NONE)"
      ]
    },
    {
      "cell_type": "code",
      "execution_count": null,
      "metadata": {
        "id": "IEwku1_2qifR"
      },
      "outputs": [],
      "source": [
        "data.shape"
      ]
    },
    {
      "cell_type": "code",
      "execution_count": null,
      "metadata": {
        "id": "V1IoH0mvqifR"
      },
      "outputs": [],
      "source": [
        "data.info()"
      ]
    },
    {
      "cell_type": "code",
      "execution_count": null,
      "metadata": {
        "id": "O77qOPkVqifR"
      },
      "outputs": [],
      "source": [
        "data.isnull().sum()"
      ]
    },
    {
      "cell_type": "code",
      "execution_count": null,
      "metadata": {
        "id": "RwQ3dE2nqifS"
      },
      "outputs": [],
      "source": [
        "data.describe()"
      ]
    },
    {
      "cell_type": "code",
      "execution_count": null,
      "metadata": {
        "id": "HcpXoHMWqifS"
      },
      "outputs": [],
      "source": [
        "data.value_counts()"
      ]
    },
    {
      "cell_type": "code",
      "execution_count": null,
      "metadata": {
        "id": "P1Cy7AjLqifS"
      },
      "outputs": [],
      "source": [
        "duplicate_counts = pd.DataFrame(data.value_counts())\n",
        "duplicate_counts"
      ]
    },
    {
      "cell_type": "code",
      "execution_count": null,
      "metadata": {
        "id": "HVLjvfp5qifT"
      },
      "outputs": [],
      "source": [
        "duplicate_counts[duplicate_counts['count'] > 1]"
      ]
    },
    {
      "cell_type": "code",
      "execution_count": null,
      "metadata": {
        "id": "2STDm698qifT"
      },
      "outputs": [],
      "source": [
        "# renommer les colonnes\n",
        "# df.rename(columns={index: 'nouvelle_colonne'})\n",
        "# df.rename(columns={'ancienne_colonne': 'nouvelle_colonne'})\n",
        "data = data.rename(columns={0: 'label', 1: 'message'})\n",
        "data"
      ]
    },
    {
      "cell_type": "code",
      "execution_count": null,
      "metadata": {
        "id": "6TmrSgBcqifT"
      },
      "outputs": [],
      "source": [
        "data = data.rename(columns={'message': 'sms'})\n",
        "data"
      ]
    },
    {
      "cell_type": "markdown",
      "metadata": {
        "id": "gD5vGZfVqifT"
      },
      "source": [
        "## Analyse de l'étiquette spam/ham"
      ]
    },
    {
      "cell_type": "code",
      "execution_count": null,
      "metadata": {
        "id": "HmGT-v67qifU"
      },
      "outputs": [],
      "source": [
        "# Compter le nombre d'occurrences de chaque classe\n",
        "occurrences = data['label'].value_counts()\n",
        "print(occurrences)"
      ]
    },
    {
      "cell_type": "code",
      "execution_count": null,
      "metadata": {
        "id": "KUZBk7NTqifU"
      },
      "outputs": [],
      "source": [
        "# Calculer la proportion de chaque classe\n",
        "proportions = data['label'].value_counts(normalize=True)\n",
        "print(proportions)"
      ]
    },
    {
      "cell_type": "markdown",
      "metadata": {
        "id": "Y5JivdQ-qifU"
      },
      "source": [
        "Il y a un déséquilibre de classes de classes"
      ]
    },
    {
      "cell_type": "code",
      "execution_count": null,
      "metadata": {
        "id": "rtrn98TxqifV"
      },
      "outputs": [],
      "source": [
        "# Créer un graphique en barres\n",
        "import matplotlib.pyplot as plt\n",
        "\n",
        "occurrences.plot(kind='bar')  # Création du graphique à barres directement depuis Series\n",
        "plt.title('Distribution des classes')\n",
        "plt.xlabel('Classe')\n",
        "plt.ylabel('Nombre d\\'occurrences')\n",
        "plt.show()"
      ]
    },
    {
      "cell_type": "code",
      "execution_count": null,
      "metadata": {
        "id": "pczwR0KkqifV"
      },
      "outputs": [],
      "source": [
        "plt.pie(proportions, autopct=lambda p: f'{p:.1f}%', startangle=90)\n",
        "plt.title('Proportion des classes')\n",
        "plt.axis('equal')  # Cette ligne assure que le camembert est bien un cercle et non une ellipse\n",
        "plt.show()"
      ]
    },
    {
      "cell_type": "code",
      "execution_count": null,
      "metadata": {
        "id": "lpmx0D6ZqifV"
      },
      "outputs": [],
      "source": [
        "p = 86.5937\n",
        "print(f'{p:.1f}%')"
      ]
    },
    {
      "cell_type": "markdown",
      "metadata": {
        "id": "p_0KeytMqifW"
      },
      "source": [
        "## Analyse du texte des SMS"
      ]
    },
    {
      "cell_type": "markdown",
      "metadata": {
        "id": "uZJqvS9dqifW"
      },
      "source": [
        "### Analyse de la longueur des messages"
      ]
    },
    {
      "cell_type": "code",
      "execution_count": null,
      "metadata": {
        "id": "h18oIQHlqifW"
      },
      "outputs": [],
      "source": [
        "data['longueur'] = data['sms'].apply(len)\n",
        "data.head()"
      ]
    },
    {
      "cell_type": "code",
      "execution_count": null,
      "metadata": {
        "id": "RKivGoARqifX"
      },
      "outputs": [],
      "source": [
        "ham_data = data[data['label'] == 'ham']\n",
        "ham_data['longueur'].describe()"
      ]
    },
    {
      "cell_type": "code",
      "execution_count": null,
      "metadata": {
        "id": "oYeldizPqifX"
      },
      "outputs": [],
      "source": [
        "spam_data = data[data['label'] == 'ham']\n",
        "ham_data['longueur'].describe()"
      ]
    },
    {
      "cell_type": "code",
      "execution_count": null,
      "metadata": {
        "id": "8c9G5DvxqifX"
      },
      "outputs": [],
      "source": [
        "data.groupby('label')['longueur'].describe()"
      ]
    },
    {
      "cell_type": "code",
      "execution_count": null,
      "metadata": {
        "id": "w2aZZMXPqifX"
      },
      "outputs": [],
      "source": [
        "data.groupby('label') # diviser data en deux groupes, 'ham' et 'spam'"
      ]
    },
    {
      "cell_type": "code",
      "execution_count": null,
      "metadata": {
        "id": "Ll3DxdV5qifY"
      },
      "outputs": [],
      "source": [
        "grouped = data.groupby('label')\n",
        "for name, group in grouped:\n",
        "    print(name)\n",
        "    print(group)"
      ]
    },
    {
      "cell_type": "code",
      "execution_count": null,
      "metadata": {
        "id": "lcJwCK1bqifY"
      },
      "outputs": [],
      "source": [
        "data.groupby('label')['longueur'] # sélectionner la colonne 'longueur' à l'intérieur de chaque groupe"
      ]
    },
    {
      "cell_type": "code",
      "execution_count": null,
      "metadata": {
        "id": "sitf92F4qifZ"
      },
      "outputs": [],
      "source": [
        "grouped_longueur = data.groupby('label')['longueur']\n",
        "for name, group in grouped_longueur:\n",
        "    print(name)\n",
        "    print(group)"
      ]
    },
    {
      "cell_type": "code",
      "execution_count": null,
      "metadata": {
        "id": "m-mvgXhsqifa"
      },
      "outputs": [],
      "source": [
        "import seaborn as sns\n",
        "\n",
        "# Création de la figure et des axes\n",
        "fig, ax = plt.subplots(figsize=(15, 5))\n",
        "\n",
        "# Création du boxplot avec Seaborn\n",
        "# orient='h' : orientation horizontale du boxplot\n",
        "# ax=ax : indique à Seaborn d'utiliser les axes 'ax' que nous avons créés\n",
        "sns.boxplot(x='longueur', y='label', data=data, orient='h', ax=ax)\n",
        "\n",
        "ax.set_title('Distribution de la longueur des messages par label')\n",
        "ax.set_xlabel('Longueur du message (nombre de caractères)')\n",
        "ax.set_ylabel('Label')\n",
        "\n",
        "plt.show()"
      ]
    },
    {
      "cell_type": "code",
      "execution_count": null,
      "metadata": {
        "id": "PCx68o1hqifa"
      },
      "outputs": [],
      "source": [
        "grouped_longueur.describe()"
      ]
    },
    {
      "cell_type": "markdown",
      "metadata": {
        "id": "IAiqn2BUqifb"
      },
      "source": [
        "### Analyse du nombre de mots dans chaque message"
      ]
    },
    {
      "cell_type": "code",
      "execution_count": null,
      "metadata": {
        "id": "OdxMgVLSqifb"
      },
      "outputs": [],
      "source": [
        "data['nombre_mots'] = data['sms'].apply(lambda x: len(x.split()))\n",
        "data.head()"
      ]
    },
    {
      "cell_type": "code",
      "execution_count": null,
      "metadata": {
        "id": "ZlOMOgo8qifb"
      },
      "outputs": [],
      "source": [
        "# On peut créer une fonction pour compter les mots dans un message\n",
        "def count_words(sms):\n",
        "    # On utilise split() pour séparer les mots par les espaces\n",
        "    return len(sms.split())\n",
        "\n",
        "data['sms'].apply(count_words)\n",
        "# similaire à data['sms'].apply(len)"
      ]
    },
    {
      "cell_type": "code",
      "execution_count": null,
      "metadata": {
        "id": "XPTBZYVsqifb"
      },
      "outputs": [],
      "source": [
        "data.groupby('label')['nombre_mots'].describe()"
      ]
    },
    {
      "cell_type": "code",
      "execution_count": null,
      "metadata": {
        "id": "RvVpzhDDqifb"
      },
      "outputs": [],
      "source": [
        "fig, ax = plt.subplots(figsize=(15, 5))\n",
        "\n",
        "sns.boxplot(x='nombre_mots', y='label', data=data, orient='h', ax=ax)\n",
        "\n",
        "ax.set_title('Distribution du nombre de mots par label')\n",
        "ax.set_xlabel('Nombre de mots')\n",
        "ax.set_ylabel('Label')\n",
        "\n",
        "plt.show()"
      ]
    },
    {
      "cell_type": "markdown",
      "metadata": {
        "id": "mCg1O6_mqifc"
      },
      "source": [
        "### Analyse de la présence de caractères spéciaux"
      ]
    },
    {
      "cell_type": "code",
      "execution_count": null,
      "metadata": {
        "id": "__kLJ1Jmqifc"
      },
      "outputs": [],
      "source": [
        "import re\n",
        "\n",
        "def contient_caractere_speciaux(text):\n",
        "    return bool(re.search(r'[^a-zA-Z0-9\\s!\"\\'(),-./:;?[\\]_]', text))\n",
        "    # L'expression régulière [^a-zA-Z0-9\\s] : identifier les caractères non alphanumériques, non espaces, non ponctuations courantes"
      ]
    },
    {
      "cell_type": "code",
      "execution_count": null,
      "metadata": {
        "id": "yVrhxXleqifc"
      },
      "outputs": [],
      "source": [
        "message = data.iloc[0]['sms']\n",
        "print(message)\n",
        "print(contient_caractere_speciaux(message))"
      ]
    },
    {
      "cell_type": "code",
      "execution_count": null,
      "metadata": {
        "id": "_YwmBWSeqifc"
      },
      "outputs": [],
      "source": [
        "message = data.iloc[2]['sms']\n",
        "print(message)\n",
        "print(contient_caractere_speciaux(message))"
      ]
    },
    {
      "cell_type": "code",
      "execution_count": null,
      "metadata": {
        "id": "iD15dm7Lqifd"
      },
      "outputs": [],
      "source": [
        "data['sms'].apply(contient_caractere_speciaux)"
      ]
    },
    {
      "cell_type": "code",
      "execution_count": null,
      "metadata": {
        "id": "BWVFH9-cqifd"
      },
      "outputs": [],
      "source": [
        "data['caractere_speciaux'] = data['sms'].apply(contient_caractere_speciaux)"
      ]
    },
    {
      "cell_type": "code",
      "execution_count": null,
      "metadata": {
        "id": "21XI5PBNqifd"
      },
      "outputs": [],
      "source": [
        "data.head()"
      ]
    },
    {
      "cell_type": "code",
      "execution_count": null,
      "metadata": {
        "id": "RGiziLcpqife"
      },
      "outputs": [],
      "source": [
        "data.groupby('label')['caractere_speciaux'].value_counts()"
      ]
    },
    {
      "cell_type": "code",
      "execution_count": null,
      "metadata": {
        "id": "OUfsRwVGqife"
      },
      "outputs": [],
      "source": [
        "proportions = data.groupby('label')['caractere_speciaux'].value_counts(normalize=True)"
      ]
    },
    {
      "cell_type": "code",
      "execution_count": null,
      "metadata": {
        "id": "-H2GlZQ3qife"
      },
      "outputs": [],
      "source": [
        "proportions"
      ]
    },
    {
      "cell_type": "code",
      "execution_count": null,
      "metadata": {
        "id": "NEO6B8hnqiff"
      },
      "outputs": [],
      "source": [
        "proportions.loc['spam']"
      ]
    },
    {
      "cell_type": "code",
      "execution_count": null,
      "metadata": {
        "id": "l0bCTt10qiff"
      },
      "outputs": [],
      "source": [
        "proportions.loc['spam'].values\n",
        "# d'abord True, ensuite False"
      ]
    },
    {
      "cell_type": "code",
      "execution_count": null,
      "metadata": {
        "id": "b6BIf_C6qiff"
      },
      "outputs": [],
      "source": [
        "proportions.loc['ham']"
      ]
    },
    {
      "cell_type": "code",
      "execution_count": null,
      "metadata": {
        "id": "_HURXscBqiff"
      },
      "outputs": [],
      "source": [
        "proportions.loc['ham'].values\n",
        "# ordre inversé !\n",
        "# d'abord False, ensuite True"
      ]
    },
    {
      "cell_type": "code",
      "execution_count": null,
      "metadata": {
        "id": "VkkBJ4Ioqifg"
      },
      "outputs": [],
      "source": [
        "# unstack() transforme le résultat du groupby en un DataFrame\n",
        "proportions = data.groupby('label')['caractere_speciaux'].value_counts().unstack()"
      ]
    },
    {
      "cell_type": "code",
      "execution_count": null,
      "metadata": {
        "id": "WBoKa5Yxqifg"
      },
      "outputs": [],
      "source": [
        "proportions"
      ]
    },
    {
      "cell_type": "code",
      "execution_count": null,
      "metadata": {
        "id": "PwmTWQbdqifg"
      },
      "outputs": [],
      "source": [
        "def display_percentage(p):\n",
        "    return f'{p:.1f}%'"
      ]
    },
    {
      "cell_type": "code",
      "execution_count": null,
      "metadata": {
        "id": "AsF7rT1lqifh"
      },
      "outputs": [],
      "source": [
        "fig, axes = plt.subplots(1, 2, figsize=(10, 5))  # 1 ligne, 2 colonnes de graphiques\n",
        "\n",
        "# Camembert pour les messages 'ham'\n",
        "axes[0].pie(proportions.loc['ham'].values, labels=proportions.loc['ham'].index, autopct=display_percentage, startangle=90)\n",
        "axes[0].set_title('ham')\n",
        "axes[0].axis('equal')\n",
        "\n",
        "# Camembert pour les messages 'spam'\n",
        "axes[1].pie(proportions.loc['spam'].values, labels=proportions.loc['spam'].index, autopct=display_percentage, startangle=90)\n",
        "axes[1].set_title('spam')\n",
        "axes[0].axis('equal')\n",
        "\n",
        "# Titre global et ajustement de la mise en page\n",
        "fig.suptitle('Proportion de messages avec (True) / sans (False) caractères spéciaux par label')\n",
        "# plt.tight_layout() ajuste automatiquement les sous-graphiques (axes)\n",
        "# pour garantir que tous les éléments de la figure sont visibles et bien disposés\n",
        "plt.tight_layout()\n",
        "plt.show()"
      ]
    },
    {
      "cell_type": "markdown",
      "metadata": {
        "id": "3cQkUFt1qifh"
      },
      "source": [
        "### Analyse de la présence des chiffres"
      ]
    },
    {
      "cell_type": "code",
      "execution_count": null,
      "metadata": {
        "id": "Tn2sKXRxqifh"
      },
      "outputs": [],
      "source": [
        "def contient_chiffre(text):\n",
        "    return bool(re.search(r\"\\d\", text))"
      ]
    },
    {
      "cell_type": "code",
      "execution_count": null,
      "metadata": {
        "id": "Qzueq1-sqifi"
      },
      "outputs": [],
      "source": [
        "data['chiffres'] = data['sms'].apply(contient_chiffre)"
      ]
    },
    {
      "cell_type": "code",
      "execution_count": null,
      "metadata": {
        "id": "fSqjnIGIqifi"
      },
      "outputs": [],
      "source": [
        "data.head()"
      ]
    },
    {
      "cell_type": "code",
      "execution_count": null,
      "metadata": {
        "id": "wPvH30XIqifi"
      },
      "outputs": [],
      "source": [
        "data.groupby('label')['chiffres'].value_counts()"
      ]
    },
    {
      "cell_type": "code",
      "execution_count": null,
      "metadata": {
        "id": "ZucGeiPCqifi"
      },
      "outputs": [],
      "source": [
        "proportions = data.groupby('label')['chiffres'].value_counts(normalize=True).unstack()"
      ]
    },
    {
      "cell_type": "code",
      "execution_count": null,
      "metadata": {
        "id": "afAGaLbTqifj"
      },
      "outputs": [],
      "source": [
        "proportions"
      ]
    },
    {
      "cell_type": "code",
      "execution_count": null,
      "metadata": {
        "id": "qa3iwBj-qifj"
      },
      "outputs": [],
      "source": [
        "fig, axes = plt.subplots(1, 2, figsize=(10, 5))  # 1 ligne, 2 colonnes de graphiques\n",
        "\n",
        "# Camembert pour les messages 'ham'\n",
        "axes[0].pie(proportions.loc['ham'].values, labels=proportions.loc['ham'].index, autopct=display_percentage, startangle=90)\n",
        "axes[0].set_title('ham')\n",
        "axes[0].axis('equal')\n",
        "\n",
        "# Camembert pour les messages 'spam'\n",
        "axes[1].pie(proportions.loc['spam'].values, labels=proportions.loc['ham'].index, autopct=display_percentage, startangle=90)\n",
        "axes[1].set_title('spam')\n",
        "axes[0].axis('equal')\n",
        "\n",
        "# Titre global et ajustement de la mise en page\n",
        "fig.suptitle('Proportion de messages avec (True) / sans (False) chiffres par label')\n",
        "plt.tight_layout()\n",
        "plt.show()"
      ]
    }
  ],
  "metadata": {
    "colab": {
      "collapsed_sections": [
        "hSsl-qX_qBFz"
      ],
      "provenance": [],
      "toc_visible": true
    },
    "kernelspec": {
      "display_name": "Python 3 (ipykernel)",
      "language": "python",
      "name": "python3"
    },
    "language_info": {
      "codemirror_mode": {
        "name": "ipython",
        "version": 3
      },
      "file_extension": ".py",
      "mimetype": "text/x-python",
      "name": "python",
      "nbconvert_exporter": "python",
      "pygments_lexer": "ipython3",
      "version": "3.12.3"
    },
    "panel-cell-order": [
      "7e49b4a0",
      "8553c022",
      "0f2ef85b",
      "66f64108",
      "d5d7367c",
      "51a3c87c",
      "dd3fb8b1",
      "25dd64ef",
      "d46c89d8",
      "c7a5ca4c",
      "656302ea",
      "8f11c1ed",
      "4817355f",
      "91be61cb",
      "0e8961a6",
      "b3d9a176",
      "ce6dfd29"
    ]
  },
  "nbformat": 4,
  "nbformat_minor": 0
}